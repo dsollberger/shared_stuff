{
 "cells": [
  {
   "cell_type": "raw",
   "id": "7f34b582",
   "metadata": {},
   "source": [
    "# ASSIGNMENT CONFIG\n",
    "name: jhw1\n",
    "\n",
    "generate: \n",
    "    pdf: true\n",
    "    pagebreaks: true\n",
    "    zips: false "
   ]
  },
  {
   "cell_type": "markdown",
   "id": "65c4ec04",
   "metadata": {},
   "source": [
    "# Math 32 Jupyter Homework 1"
   ]
  },
  {
   "cell_type": "code",
   "execution_count": 23,
   "id": "dafe2c68",
   "metadata": {},
   "outputs": [],
   "source": [
    "# If needed, uncomment and run these lines of code once to install the code packages\n",
    "# install.packages(\"tidyverse\")\n",
    "# install.packages(\"titanic\")\n",
    "\n",
    "# loading the tidyverse to ease instruction of code for the conditional probability tasks\n",
    "suppressPackageStartupMessages(library(\"tidyverse\")) # suppress startup messages at package load\n",
    "library(\"titanic\") #small data set about the Titanic shipwreck"
   ]
  },
  {
   "cell_type": "markdown",
   "id": "2c7d0f9e",
   "metadata": {},
   "source": [
    "## Sets\n",
    "\n",
    "Let $X = \\{1, 2, 3, ..., 99, 100\\}$ be a possibility space.\n",
    "\n",
    "### Sequences\n",
    "\n",
    "The provided code creates a sequence of natural numbers from 5 to 100 counting by multiples of 5. On the third line, create a sequence of natural numbers from 3 to 100 counting by multiples of 3."
   ]
  },
  {
   "cell_type": "code",
   "execution_count": 24,
   "id": "100d81b6",
   "metadata": {},
   "outputs": [],
   "source": [
    "fives  <- seq(5, 100, 5)\n",
    "print(fives)\n",
    "threes <- seq(___, ___, ___)"
   ]
  },
  {
   "cell_type": "markdown",
   "id": "0b8f95ec",
   "metadata": {},
   "source": [
    "### Intersection and Union\n",
    "\n",
    "The provided code prints the `intersection` of fives and threes. Write another line of code that prints the `union` of fives and threes"
   ]
  },
  {
   "cell_type": "code",
   "execution_count": 25,
   "id": "ea04659b",
   "metadata": {},
   "outputs": [],
   "source": [
    "print(intersect(fives, threes))\n",
    "print(_____(fives, threes))"
   ]
  },
  {
   "cell_type": "markdown",
   "id": "237f86c1",
   "metadata": {},
   "source": [
    "The provided code saves the `intersection` of fives and threes into a variable named `v1`. Write another line of code that saves the `union` of fives and threes into a variable named `v2`."
   ]
  },
  {
   "cell_type": "code",
   "execution_count": 26,
   "id": "364eea38",
   "metadata": {},
   "outputs": [],
   "source": [
    "v1 <- intersect(fives, threes)\n",
    "__ <- _____(fives, threes)"
   ]
  },
  {
   "cell_type": "markdown",
   "id": "204bd386",
   "metadata": {},
   "source": [
    "## Inclusion-Exclusion\n",
    "\n",
    "### Cardinality\n",
    "\n",
    "Print\n",
    "\n",
    "* the `length` of `fives`\n",
    "* the `length` of `threes`\n",
    "* the `length` of the intersection of `fives` and `threes`\n",
    "* the `length` of the union of `fives` and `threes`"
   ]
  },
  {
   "cell_type": "code",
   "execution_count": 27,
   "id": "6af3f652",
   "metadata": {},
   "outputs": [],
   "source": [
    "print(length(fives))\n",
    "_____\n",
    "_____\n",
    "_____"
   ]
  },
  {
   "cell_type": "markdown",
   "id": "36217097",
   "metadata": {},
   "source": [
    "## Conditional Probability\n",
    "\n",
    "### Titanic Data\n",
    "\n",
    "The `titanic` data set contains information about the famous Titanic shipwreck ([package documentation](https://www.kaggle.com/c/titanic/data)).  Here is a quick look at the `titanic_train` data."
   ]
  },
  {
   "cell_type": "code",
   "execution_count": 28,
   "id": "a730f3ea",
   "metadata": {},
   "outputs": [],
   "source": [
    "str(titanic_train)"
   ]
  },
  {
   "cell_type": "markdown",
   "id": "284a6c37",
   "metadata": {},
   "source": [
    "Here we compute the probability that a passenger was under 32 years old *given* that they were a first-class passenger.  Observe the use of the \"double-equals sign\" `==` for logical equality (here: when discussing the passenger class in the `PClass` variable)."
   ]
  },
  {
   "cell_type": "code",
   "execution_count": 29,
   "id": "cff4f903",
   "metadata": {},
   "outputs": [],
   "source": [
    "titanic_train %>%\n",
    "  filter(Pclass == 1) %>%\n",
    "  mutate(denominator = n()) %>%\n",
    "  filter(Age < 32) %>%\n",
    "  mutate(numerator = n()) %>%\n",
    "  mutate(ratio = numerator / denominator) %>%\n",
    "  summarize(cond_prob = unique(ratio))"
   ]
  },
  {
   "cell_type": "markdown",
   "id": "b6c8e038",
   "metadata": {},
   "source": [
    "Compute the probability that a passenger was over 32 years old given that they were a third-class passenger."
   ]
  },
  {
   "cell_type": "code",
   "execution_count": 30,
   "id": "96e21a96",
   "metadata": {},
   "outputs": [],
   "source": [
    "titanic_train %>%\n",
    "  filter(_____) %>%\n",
    "  mutate(denominator = n()) %>%\n",
    "  filter(_____) %>%\n",
    "  mutate(numerator = n()) %>%\n",
    "  mutate(ratio = numerator / denominator) %>%\n",
    "  summarize(cond_prob = unique(ratio))"
   ]
  },
  {
   "cell_type": "markdown",
   "id": "5145de25",
   "metadata": {},
   "source": [
    "Compute the probability that a passenger was a third-class passenger *given* that they were over 32 years old."
   ]
  },
  {
   "cell_type": "code",
   "execution_count": 31,
   "id": "157c0bba",
   "metadata": {},
   "outputs": [],
   "source": []
  },
  {
   "cell_type": "markdown",
   "id": "e80954cb",
   "metadata": {},
   "source": [
    "# Submission\n",
    "\n",
    "Once you are done with the tasks above,\n",
    "\n",
    "* Go to \"File\"\n",
    "* Click \"Download as\"\n",
    "* Download as \"Notebook (.ipynb)\n",
    "\n",
    "That will download a copy of this notebook onto your computer (probably into your Downloads folder).  Please upload the .ipynb file back into our CatCourses site."
   ]
  }
 ],
 "metadata": {
  "kernelspec": {
   "display_name": "R",
   "language": "R",
   "name": "ir"
  },
  "language_info": {
   "codemirror_mode": "r",
   "file_extension": ".r",
   "mimetype": "text/x-r-source",
   "name": "R",
   "pygments_lexer": "r",
   "version": "4.2.1"
  }
 },
 "nbformat": 4,
 "nbformat_minor": 5
}
